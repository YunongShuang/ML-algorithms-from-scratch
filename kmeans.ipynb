{
 "cells": [
  {
   "cell_type": "markdown",
   "metadata": {
    "id": "jqxYNQf83zCM"
   },
   "source": [
    "### The code is implemented and run on Google Colab"
   ]
  },
  {
   "cell_type": "code",
   "execution_count": null,
   "metadata": {
    "colab": {
     "base_uri": "https://localhost:8080/"
    },
    "id": "Q57ZHKyW31Sy",
    "outputId": "1b37542b-e7d2-48fd-86bf-fca621bdefff"
   },
   "outputs": [
    {
     "name": "stdout",
     "output_type": "stream",
     "text": [
      "Requirement already satisfied: torch in /usr/local/lib/python3.7/dist-packages (1.10.0+cu111)\n",
      "Requirement already satisfied: typing-extensions in /usr/local/lib/python3.7/dist-packages (from torch) (3.10.0.2)\n",
      "Requirement already satisfied: torchvision in /usr/local/lib/python3.7/dist-packages (0.11.1+cu111)\n",
      "Requirement already satisfied: numpy in /usr/local/lib/python3.7/dist-packages (from torchvision) (1.19.5)\n",
      "Requirement already satisfied: pillow!=8.3.0,>=5.3.0 in /usr/local/lib/python3.7/dist-packages (from torchvision) (7.1.2)\n",
      "Requirement already satisfied: torch==1.10.0 in /usr/local/lib/python3.7/dist-packages (from torchvision) (1.10.0+cu111)\n",
      "Requirement already satisfied: typing-extensions in /usr/local/lib/python3.7/dist-packages (from torch==1.10.0->torchvision) (3.10.0.2)\n"
     ]
    }
   ],
   "source": [
    "# If use Google Colab, use the two commands to install torch and torchvision\n",
    "!pip install torch\n",
    "!pip install torchvision"
   ]
  },
  {
   "cell_type": "code",
   "execution_count": null,
   "metadata": {
    "id": "EEx3-dM936oi"
   },
   "outputs": [],
   "source": [
    "import torchvision\n",
    "from torchvision import datasets, transforms\n",
    "from torchvision.transforms import ToTensor, Compose\n",
    "import pickle\n",
    "import numpy as np\n",
    "import matplotlib.pyplot as plt"
   ]
  },
  {
   "cell_type": "code",
   "execution_count": null,
   "metadata": {
    "colab": {
     "base_uri": "https://localhost:8080/",
     "height": 104,
     "referenced_widgets": [
      "0ecc0b221c9c4b9b933e6479fb66b647",
      "af85b64fb9a940cbbc8d2bb2d9900947",
      "1a558579c3be413281abceda741d3a40",
      "23816dcec96c4dd6b6a232ff1aa52616",
      "27d317dcebe7432982fd7139c4c83efd",
      "e2b950ec0c0c48f4a6ffc42dbab3c6b2",
      "896f2d4f9d3b4d749d90f4358c52fae6",
      "31171c88eacd40c09e26a62c6a98ece0",
      "b4c1530e9a224334bba29cf90bf606de",
      "1ff370d4f8b047e58bca21605773e1e3",
      "65d8d72949064866a2808e856f4be419"
     ]
    },
    "id": "zuwoeuYC38ee",
    "outputId": "92f6a0f8-acfc-401c-d4ae-6b7fe05cae92"
   },
   "outputs": [
    {
     "name": "stdout",
     "output_type": "stream",
     "text": [
      "Downloading https://www.cs.toronto.edu/~kriz/cifar-10-python.tar.gz to data/cifar-10-python.tar.gz\n"
     ]
    },
    {
     "data": {
      "application/vnd.jupyter.widget-view+json": {
       "model_id": "0ecc0b221c9c4b9b933e6479fb66b647",
       "version_major": 2,
       "version_minor": 0
      },
      "text/plain": [
       "  0%|          | 0/170498071 [00:00<?, ?it/s]"
      ]
     },
     "metadata": {},
     "output_type": "display_data"
    },
    {
     "name": "stdout",
     "output_type": "stream",
     "text": [
      "Extracting data/cifar-10-python.tar.gz to data/\n",
      "Files already downloaded and verified\n"
     ]
    }
   ],
   "source": [
    "# load data\n",
    "train_dataset = datasets.CIFAR10(root='data/', download=True, train=True, transform=ToTensor())\n",
    "test_dataset = datasets.CIFAR10(root='data/', download=True, train=False, transform=ToTensor())"
   ]
  },
  {
   "cell_type": "code",
   "execution_count": null,
   "metadata": {
    "id": "YujaYC4-39H_"
   },
   "outputs": [],
   "source": [
    "# load train and test data\n",
    "X_train = train_dataset.data/255\n",
    "y_train = np.array(train_dataset.targets)\n",
    "X_test = test_dataset.data/255\n",
    "y_test = np.array(test_dataset.targets)"
   ]
  },
  {
   "cell_type": "code",
   "execution_count": null,
   "metadata": {
    "id": "m02oxQwe3_Zu"
   },
   "outputs": [],
   "source": [
    "# vectorize train and test data\n",
    "X_train = X_train.reshape((50000, 32*32*3))\n",
    "X_test = X_test.reshape((10000, 32*32*3))"
   ]
  },
  {
   "cell_type": "markdown",
   "metadata": {
    "id": "HhDTLOru4Bwe"
   },
   "source": [
    "### Implementatation of K means"
   ]
  },
  {
   "cell_type": "code",
   "execution_count": null,
   "metadata": {
    "id": "uUvqzr0E4AD8"
   },
   "outputs": [],
   "source": [
    "# calculate eucildean distance\n",
    "def eucli_distance(train_data, cluster_centres):\n",
    "  dist_array = []\n",
    "  #iterate train data and selected points\n",
    "  for i in train_data:\n",
    "    point_dist = []\n",
    "    for j in cluster_centres:\n",
    "      #calculate distance for each random point\n",
    "      dist = np.linalg.norm((i-j))\n",
    "      point_dist.append(dist)\n",
    "    dist_array.append(point_dist)\n",
    "  return dist_array\n",
    "\n",
    "\n",
    "def get_clusters(distances):\n",
    "  #find min distances from data points to centroids\n",
    "  #use index as label for assigne clusters\n",
    "  clusters=[]\n",
    "  for i in distances:\n",
    "    index_cluster = np.argmin(i)\n",
    "    clusters.append(index_cluster)\n",
    "  clusters = np.array(clusters)\n",
    "\n",
    "  return clusters\n",
    "\n",
    "def get_centroids(clusters,train_data,k):\n",
    "  # get centroids for the next iteration\n",
    "  centroids = []\n",
    "  for i in range(k):\n",
    "    # get all index(cluster numbers) of each data points and calculate means\n",
    "    index = np.where(clusters==i)\n",
    "    means = train_data[index].mean()\n",
    "    centroids.append(means)\n",
    "\n",
    "  centroids = np.array(centroids)\n",
    "\n",
    "  return centroids\n",
    "\n",
    "def k_means(train, k):\n",
    "  #randomly pick k data points from train dataset\n",
    "  index = np.random.choice(train.shape[0], k, replace=False) \n",
    "  random_centroids = train[index]\n",
    "  \n",
    "  #calculate distances\n",
    "  distances = np.array(eucli_distance(train, random_centroids))\n",
    "\n",
    "  #get clusters\n",
    "  #find min distances from data points to centroids\n",
    "  #use index as label for assigne clusters\n",
    "  clusters = get_clusters(distances)\n",
    "\n",
    "  #loop until centroids converge\n",
    "  while(True):\n",
    "    #get new centroids with clusters\n",
    "    centroids = get_centroids(clusters,train,k)\n",
    "\n",
    "    # repeat calculate distances\n",
    "    distances = np.array(eucli_distance(train, centroids))\n",
    "\n",
    "    #get new clusters with new distances\n",
    "    clusters = get_clusters(distances)\n",
    "\n",
    "    #get centroids for the next iteration\n",
    "    next_centroids = get_centroids(clusters,train,k)\n",
    "\n",
    "    #if centroids and next centroids are the same , then break loop\n",
    "    subtractions = centroids - next_centroids\n",
    "    if (np.all(subtractions==0)):\n",
    "      break\n",
    "\n",
    "  return clusters\n",
    "\n",
    "# give predicted labels and true labels, find all differences\n",
    "# calculate accruacy: #corrects/#total\n",
    "def calculate_accuracy (predict_labels, true_labels):\n",
    "    corrects = np.nonzero(predict_labels == true_labels)[0]\n",
    "    accuracy = len(corrects)/len(true_labels)\n",
    "    return accuracy\n"
   ]
  },
  {
   "cell_type": "markdown",
   "metadata": {
    "id": "D91i6YOALCMG"
   },
   "source": [
    "## calculate accuracy for different parameters in 5 fold cross validation"
   ]
  },
  {
   "cell_type": "code",
   "execution_count": null,
   "metadata": {
    "colab": {
     "base_uri": "https://localhost:8080/"
    },
    "id": "8Gfm6behrEQ-",
    "outputId": "28759af7-20be-4989-a7ed-3ea2dab11c4b"
   },
   "outputs": [
    {
     "name": "stdout",
     "output_type": "stream",
     "text": [
      "Average accuracy for k = 3 : 15.655 %\n",
      "Average accuracy for k = 5 : 15.72 %\n",
      "Average accuracy for k = 7 : 16.0365 %\n",
      "Average accuracy for k = 11 : 16.0325 %\n"
     ]
    }
   ],
   "source": [
    "# a list of parameters for k\n",
    "k_li = [3,5,7,11]\n",
    "total_acc_array = []\n",
    "\n",
    "for k in k_li:\n",
    "  acc_array = []\n",
    "  final_predictions = np.zeros(40000)\n",
    "  # train k means with 5 fold cross-validation\n",
    "  # 5 fold cross-validation\n",
    "  # split train dataset into 5 folds and iterate\n",
    "  m = np.split(X_train,5)\n",
    "  n = np.split(y_train,5)\n",
    "  for index in range(5):\n",
    "    #use index to split validations set and rest of train set\n",
    "    if index == 0:\n",
    "      trainset_x = np.concatenate(m[index+1:],axis=0)\n",
    "      trainset_y  = np.concatenate(n[index+1:],axis=0)\n",
    "    else:\n",
    "      trainset_x =  np.concatenate(m[0:index]+m[index+1:],axis=0)\n",
    "      trainset_y  = np.concatenate(n[0:index]+n[index+1:],axis=0)\n",
    "    validation_x = m[index]\n",
    "    validation_y = n[index]\n",
    "\n",
    "    final_clusters = k_means(trainset_x, k)\n",
    "    #assign the majority label in each cluster to all images in that cluster as the predicted label\n",
    "    for i in range (k):\n",
    "      #find clusters\n",
    "      index = np.where(final_clusters==i)\n",
    "      find_labels = trainset_y[index]\n",
    "      #find majority label\n",
    "      count_labels = np.bincount(find_labels)\n",
    "      max_index = np.argmax(count_labels)\n",
    "      final_predictions[index] = max_index\n",
    "    acc = calculate_accuracy(final_predictions, trainset_y)\n",
    "    acc_array.append(acc)\n",
    "  total_acc_array.append(sum(acc_array)/len(acc_array))\n",
    "  print(\"Average accuracy for k =\" ,k,\":\", sum(acc_array)/len(acc_array)*100,\"%\")"
   ]
  },
  {
   "cell_type": "markdown",
   "metadata": {
    "id": "AQZkAUnBSCSh"
   },
   "source": [
    "## Draw a line graph with parameters as x-axis and accuracy as y-axis"
   ]
  },
  {
   "cell_type": "code",
   "execution_count": null,
   "metadata": {
    "colab": {
     "base_uri": "https://localhost:8080/",
     "height": 299
    },
    "id": "KEU_aFBk9b2I",
    "outputId": "0a087d9b-c501-4375-e93a-b57c2433434e"
   },
   "outputs": [
    {
     "data": {
      "text/plain": [
       "Text(0.5, 1.0, 'Accuacy with different parameters')"
      ]
     },
     "execution_count": 20,
     "metadata": {},
     "output_type": "execute_result"
    },
    {
     "data": {
      "image/png": "[encoded data removed]",
      "text/plain": [
       "<Figure size 432x288 with 1 Axes>"
      ]
     },
     "metadata": {
      "needs_background": "light"
     },
     "output_type": "display_data"
    }
   ],
   "source": [
    "plt.plot(k_li, total_acc_array)\n",
    "plt.title('Accuacy with different parameters')"
   ]
  },
  {
   "cell_type": "markdown",
   "metadata": {
    "id": "gEx17HIXRiix"
   },
   "source": [
    "## Final accuracy with the best parameter"
   ]
  },
  {
   "cell_type": "code",
   "execution_count": null,
   "metadata": {
    "id": "S8RrVpW3KSLV"
   },
   "outputs": [],
   "source": [
    "k = 7\n",
    "final_acc = []\n",
    "\n",
    "final_clusters = k_means(X_test, k)\n",
    "#assign the majority label in each cluster to all images in that cluster as the predicted label\n",
    "final_predictions = np.zeros(10000)\n",
    "for i in range (k):\n",
    "  index = np.where(final_clusters==i)\n",
    "  find_labels = y_test[index]\n",
    "  count_labels = np.bincount(find_labels)\n",
    "  max_index = np.argmax(count_labels)\n",
    "  final_predictions[index] = max_index\n",
    "acc = calculate_accuracy(final_predictions, y_test)\n",
    "acc_array.append(acc)"
   ]
  },
  {
   "cell_type": "code",
   "execution_count": null,
   "metadata": {
    "colab": {
     "base_uri": "https://localhost:8080/"
    },
    "id": "K-jnbk39Orli",
    "outputId": "59c61ca1-e920-4944-b1c8-dfb79b15918d"
   },
   "outputs": [
    {
     "name": "stdout",
     "output_type": "stream",
     "text": [
      "Average accuracy for k = 7 : 16.081785714285715 %\n"
     ]
    }
   ],
   "source": [
    "print(\"Average accuracy for k =\" ,k,\":\", sum(acc_array)/len(acc_array)*100,\"%\")"
   ]
  }
 ],
 "metadata": {
  "colab": {
   "collapsed_sections": [],
   "name": "kmeans.ipynb",
   "provenance": []
  },
  "kernelspec": {
   "display_name": "Python 3",
   "language": "python",
   "name": "python3"
  },
  "language_info": {
   "codemirror_mode": {
    "name": "ipython",
    "version": 3
   },
   "file_extension": ".py",
   "mimetype": "text/x-python",
   "name": "python",
   "nbconvert_exporter": "python",
   "pygments_lexer": "ipython3",
   "version": "3.8.5"
  },
  "widgets": {
   "application/vnd.jupyter.widget-state+json": {
    "0ecc0b221c9c4b9b933e6479fb66b647": {
     "model_module": "@jupyter-widgets/controls",
     "model_module_version": "1.5.0",
     "model_name": "HBoxModel",
     "state": {
      "_dom_classes": [],
      "_model_module": "@jupyter-widgets/controls",
      "_model_module_version": "1.5.0",
      "_model_name": "HBoxModel",
      "_view_count": null,
      "_view_module": "@jupyter-widgets/controls",
      "_view_module_version": "1.5.0",
      "_view_name": "HBoxView",
      "box_style": "",
      "children": [
       "IPY_MODEL_1a558579c3be413281abceda741d3a40",
       "IPY_MODEL_23816dcec96c4dd6b6a232ff1aa52616",
       "IPY_MODEL_27d317dcebe7432982fd7139c4c83efd"
      ],
      "layout": "IPY_MODEL_af85b64fb9a940cbbc8d2bb2d9900947"
     }
    },
    "1a558579c3be413281abceda741d3a40": {
     "model_module": "@jupyter-widgets/controls",
     "model_module_version": "1.5.0",
     "model_name": "HTMLModel",
     "state": {
      "_dom_classes": [],
      "_model_module": "@jupyter-widgets/controls",
      "_model_module_version": "1.5.0",
      "_model_name": "HTMLModel",
      "_view_count": null,
      "_view_module": "@jupyter-widgets/controls",
      "_view_module_version": "1.5.0",
      "_view_name": "HTMLView",
      "description": "",
      "description_tooltip": null,
      "layout": "IPY_MODEL_896f2d4f9d3b4d749d90f4358c52fae6",
      "placeholder": "​",
      "style": "IPY_MODEL_e2b950ec0c0c48f4a6ffc42dbab3c6b2",
      "value": ""
     }
    },
    "1ff370d4f8b047e58bca21605773e1e3": {
     "model_module": "@jupyter-widgets/controls",
     "model_module_version": "1.5.0",
     "model_name": "DescriptionStyleModel",
     "state": {
      "_model_module": "@jupyter-widgets/controls",
      "_model_module_version": "1.5.0",
      "_model_name": "DescriptionStyleModel",
      "_view_count": null,
      "_view_module": "@jupyter-widgets/base",
      "_view_module_version": "1.2.0",
      "_view_name": "StyleView",
      "description_width": ""
     }
    },
    "23816dcec96c4dd6b6a232ff1aa52616": {
     "model_module": "@jupyter-widgets/controls",
     "model_module_version": "1.5.0",
     "model_name": "FloatProgressModel",
     "state": {
      "_dom_classes": [],
      "_model_module": "@jupyter-widgets/controls",
      "_model_module_version": "1.5.0",
      "_model_name": "FloatProgressModel",
      "_view_count": null,
      "_view_module": "@jupyter-widgets/controls",
      "_view_module_version": "1.5.0",
      "_view_name": "ProgressView",
      "bar_style": "success",
      "description": "",
      "description_tooltip": null,
      "layout": "IPY_MODEL_b4c1530e9a224334bba29cf90bf606de",
      "max": 170498071,
      "min": 0,
      "orientation": "horizontal",
      "style": "IPY_MODEL_31171c88eacd40c09e26a62c6a98ece0",
      "value": 170498071
     }
    },
    "27d317dcebe7432982fd7139c4c83efd": {
     "model_module": "@jupyter-widgets/controls",
     "model_module_version": "1.5.0",
     "model_name": "HTMLModel",
     "state": {
      "_dom_classes": [],
      "_model_module": "@jupyter-widgets/controls",
      "_model_module_version": "1.5.0",
      "_model_name": "HTMLModel",
      "_view_count": null,
      "_view_module": "@jupyter-widgets/controls",
      "_view_module_version": "1.5.0",
      "_view_name": "HTMLView",
      "description": "",
      "description_tooltip": null,
      "layout": "IPY_MODEL_65d8d72949064866a2808e856f4be419",
      "placeholder": "​",
      "style": "IPY_MODEL_1ff370d4f8b047e58bca21605773e1e3",
      "value": " 170499072/? [00:05&lt;00:00, 22290755.36it/s]"
     }
    },
    "31171c88eacd40c09e26a62c6a98ece0": {
     "model_module": "@jupyter-widgets/controls",
     "model_module_version": "1.5.0",
     "model_name": "ProgressStyleModel",
     "state": {
      "_model_module": "@jupyter-widgets/controls",
      "_model_module_version": "1.5.0",
      "_model_name": "ProgressStyleModel",
      "_view_count": null,
      "_view_module": "@jupyter-widgets/base",
      "_view_module_version": "1.2.0",
      "_view_name": "StyleView",
      "bar_color": null,
      "description_width": ""
     }
    },
    "65d8d72949064866a2808e856f4be419": {
     "model_module": "@jupyter-widgets/base",
     "model_module_version": "1.2.0",
     "model_name": "LayoutModel",
     "state": {
      "_model_module": "@jupyter-widgets/base",
      "_model_module_version": "1.2.0",
      "_model_name": "LayoutModel",
      "_view_count": null,
      "_view_module": "@jupyter-widgets/base",
      "_view_module_version": "1.2.0",
      "_view_name": "LayoutView",
      "align_content": null,
      "align_items": null,
      "align_self": null,
      "border": null,
      "bottom": null,
      "display": null,
      "flex": null,
      "flex_flow": null,
      "grid_area": null,
      "grid_auto_columns": null,
      "grid_auto_flow": null,
      "grid_auto_rows": null,
      "grid_column": null,
      "grid_gap": null,
      "grid_row": null,
      "grid_template_areas": null,
      "grid_template_columns": null,
      "grid_template_rows": null,
      "height": null,
      "justify_content": null,
      "justify_items": null,
      "left": null,
      "margin": null,
      "max_height": null,
      "max_width": null,
      "min_height": null,
      "min_width": null,
      "object_fit": null,
      "object_position": null,
      "order": null,
      "overflow": null,
      "overflow_x": null,
      "overflow_y": null,
      "padding": null,
      "right": null,
      "top": null,
      "visibility": null,
      "width": null
     }
    },
    "896f2d4f9d3b4d749d90f4358c52fae6": {
     "model_module": "@jupyter-widgets/base",
     "model_module_version": "1.2.0",
     "model_name": "LayoutModel",
     "state": {
      "_model_module": "@jupyter-widgets/base",
      "_model_module_version": "1.2.0",
      "_model_name": "LayoutModel",
      "_view_count": null,
      "_view_module": "@jupyter-widgets/base",
      "_view_module_version": "1.2.0",
      "_view_name": "LayoutView",
      "align_content": null,
      "align_items": null,
      "align_self": null,
      "border": null,
      "bottom": null,
      "display": null,
      "flex": null,
      "flex_flow": null,
      "grid_area": null,
      "grid_auto_columns": null,
      "grid_auto_flow": null,
      "grid_auto_rows": null,
      "grid_column": null,
      "grid_gap": null,
      "grid_row": null,
      "grid_template_areas": null,
      "grid_template_columns": null,
      "grid_template_rows": null,
      "height": null,
      "justify_content": null,
      "justify_items": null,
      "left": null,
      "margin": null,
      "max_height": null,
      "max_width": null,
      "min_height": null,
      "min_width": null,
      "object_fit": null,
      "object_position": null,
      "order": null,
      "overflow": null,
      "overflow_x": null,
      "overflow_y": null,
      "padding": null,
      "right": null,
      "top": null,
      "visibility": null,
      "width": null
     }
    },
    "af85b64fb9a940cbbc8d2bb2d9900947": {
     "model_module": "@jupyter-widgets/base",
     "model_module_version": "1.2.0",
     "model_name": "LayoutModel",
     "state": {
      "_model_module": "@jupyter-widgets/base",
      "_model_module_version": "1.2.0",
      "_model_name": "LayoutModel",
      "_view_count": null,
      "_view_module": "@jupyter-widgets/base",
      "_view_module_version": "1.2.0",
      "_view_name": "LayoutView",
      "align_content": null,
      "align_items": null,
      "align_self": null,
      "border": null,
      "bottom": null,
      "display": null,
      "flex": null,
      "flex_flow": null,
      "grid_area": null,
      "grid_auto_columns": null,
      "grid_auto_flow": null,
      "grid_auto_rows": null,
      "grid_column": null,
      "grid_gap": null,
      "grid_row": null,
      "grid_template_areas": null,
      "grid_template_columns": null,
      "grid_template_rows": null,
      "height": null,
      "justify_content": null,
      "justify_items": null,
      "left": null,
      "margin": null,
      "max_height": null,
      "max_width": null,
      "min_height": null,
      "min_width": null,
      "object_fit": null,
      "object_position": null,
      "order": null,
      "overflow": null,
      "overflow_x": null,
      "overflow_y": null,
      "padding": null,
      "right": null,
      "top": null,
      "visibility": null,
      "width": null
     }
    },
    "b4c1530e9a224334bba29cf90bf606de": {
     "model_module": "@jupyter-widgets/base",
     "model_module_version": "1.2.0",
     "model_name": "LayoutModel",
     "state": {
      "_model_module": "@jupyter-widgets/base",
      "_model_module_version": "1.2.0",
      "_model_name": "LayoutModel",
      "_view_count": null,
      "_view_module": "@jupyter-widgets/base",
      "_view_module_version": "1.2.0",
      "_view_name": "LayoutView",
      "align_content": null,
      "align_items": null,
      "align_self": null,
      "border": null,
      "bottom": null,
      "display": null,
      "flex": null,
      "flex_flow": null,
      "grid_area": null,
      "grid_auto_columns": null,
      "grid_auto_flow": null,
      "grid_auto_rows": null,
      "grid_column": null,
      "grid_gap": null,
      "grid_row": null,
      "grid_template_areas": null,
      "grid_template_columns": null,
      "grid_template_rows": null,
      "height": null,
      "justify_content": null,
      "justify_items": null,
      "left": null,
      "margin": null,
      "max_height": null,
      "max_width": null,
      "min_height": null,
      "min_width": null,
      "object_fit": null,
      "object_position": null,
      "order": null,
      "overflow": null,
      "overflow_x": null,
      "overflow_y": null,
      "padding": null,
      "right": null,
      "top": null,
      "visibility": null,
      "width": null
     }
    },
    "e2b950ec0c0c48f4a6ffc42dbab3c6b2": {
     "model_module": "@jupyter-widgets/controls",
     "model_module_version": "1.5.0",
     "model_name": "DescriptionStyleModel",
     "state": {
      "_model_module": "@jupyter-widgets/controls",
      "_model_module_version": "1.5.0",
      "_model_name": "DescriptionStyleModel",
      "_view_count": null,
      "_view_module": "@jupyter-widgets/base",
      "_view_module_version": "1.2.0",
      "_view_name": "StyleView",
      "description_width": ""
     }
    }
   }
  }
 },
 "nbformat": 4,
 "nbformat_minor": 1
}

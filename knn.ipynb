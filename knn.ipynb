{
 "cells": [
  {
   "cell_type": "markdown",
   "metadata": {
    "id": "rqk-6JwxlgvG"
   },
   "source": [
    "### The code is implemented and run on Google Colab"
   ]
  },
  {
   "cell_type": "code",
   "execution_count": null,
   "metadata": {
    "colab": {
     "base_uri": "https://localhost:8080/"
    },
    "id": "XCvoXKtKlc_J",
    "outputId": "6b2436ab-88b2-4ab4-9192-f0a6bba4fc71"
   },
   "outputs": [
    {
     "name": "stdout",
     "output_type": "stream",
     "text": [
      "Requirement already satisfied: torch in /usr/local/lib/python3.7/dist-packages (1.10.0+cu111)\n",
      "Requirement already satisfied: typing-extensions in /usr/local/lib/python3.7/dist-packages (from torch) (3.10.0.2)\n",
      "Requirement already satisfied: torchvision in /usr/local/lib/python3.7/dist-packages (0.11.1+cu111)\n",
      "Requirement already satisfied: pillow!=8.3.0,>=5.3.0 in /usr/local/lib/python3.7/dist-packages (from torchvision) (7.1.2)\n",
      "Requirement already satisfied: numpy in /usr/local/lib/python3.7/dist-packages (from torchvision) (1.19.5)\n",
      "Requirement already satisfied: torch==1.10.0 in /usr/local/lib/python3.7/dist-packages (from torchvision) (1.10.0+cu111)\n",
      "Requirement already satisfied: typing-extensions in /usr/local/lib/python3.7/dist-packages (from torch==1.10.0->torchvision) (3.10.0.2)\n"
     ]
    }
   ],
   "source": [
    "# If use Google Colab, use the two commands to install torch and torchvision\n",
    "!pip install torch\n",
    "!pip install torchvision"
   ]
  },
  {
   "cell_type": "code",
   "execution_count": null,
   "metadata": {
    "id": "5Cvw8YTRj5sC"
   },
   "outputs": [],
   "source": [
    "import torchvision\n",
    "from torchvision import datasets, transforms\n",
    "from torchvision.transforms import ToTensor, Compose\n",
    "import pickle\n",
    "import numpy as np\n",
    "import matplotlib.pyplot as plt"
   ]
  },
  {
   "cell_type": "code",
   "execution_count": null,
   "metadata": {
    "colab": {
     "base_uri": "https://localhost:8080/",
     "height": 104,
     "referenced_widgets": [
      "19997021ea8543a6bb86add58c023179",
      "b15c648772924f3babff05850486df4f",
      "77c51023aa7b4eb088098c562aa9700c",
      "807624b40b9a43a693a5a3afd4d3fa4b",
      "e82379c1843b41c8b161b3c1233076a0",
      "5a9473d716154e0083412fdd7e4acf1d",
      "becc1caec2e64e7e80608385805d7658",
      "b9cea8fdedcf4ef5a4f9ad7e3c0df42f",
      "8e5cee4a64c24cb0b1cff95c514f0be5",
      "fb1ee35acd5f406d8f0197b192436346",
      "2d9afe4170814a8696816d45abc7df25"
     ]
    },
    "id": "SUJPlZyClGTN",
    "outputId": "059a1165-8415-42bd-a0ed-b3e6fb9f5554"
   },
   "outputs": [
    {
     "name": "stdout",
     "output_type": "stream",
     "text": [
      "Downloading https://www.cs.toronto.edu/~kriz/cifar-10-python.tar.gz to data/cifar-10-python.tar.gz\n"
     ]
    },
    {
     "data": {
      "application/vnd.jupyter.widget-view+json": {
       "model_id": "19997021ea8543a6bb86add58c023179",
       "version_major": 2,
       "version_minor": 0
      },
      "text/plain": [
       "  0%|          | 0/170498071 [00:00<?, ?it/s]"
      ]
     },
     "metadata": {},
     "output_type": "display_data"
    },
    {
     "name": "stdout",
     "output_type": "stream",
     "text": [
      "Extracting data/cifar-10-python.tar.gz to data/\n",
      "Files already downloaded and verified\n"
     ]
    }
   ],
   "source": [
    "# load data\n",
    "train_dataset = datasets.CIFAR10(root='data/', download=True, train=True, transform=ToTensor())\n",
    "test_dataset = datasets.CIFAR10(root='data/', download=True, train=False, transform=ToTensor())"
   ]
  },
  {
   "cell_type": "code",
   "execution_count": null,
   "metadata": {
    "id": "YJRTFk8WmEnB"
   },
   "outputs": [],
   "source": [
    "# load train and test data\n",
    "X_train = train_dataset.data/255\n",
    "y_train = np.array(train_dataset.targets)\n",
    "X_test = test_dataset.data/255\n",
    "y_test = np.array(test_dataset.targets)"
   ]
  },
  {
   "cell_type": "code",
   "execution_count": null,
   "metadata": {
    "id": "C_CT7OvymOs5"
   },
   "outputs": [],
   "source": [
    "# vectorize train and test data\n",
    "X_train = X_train.reshape((50000, 32*32*3))\n",
    "X_test = X_test.reshape((10000, 32*32*3))"
   ]
  },
  {
   "cell_type": "markdown",
   "metadata": {
    "id": "vGyTEUnIoNdu"
   },
   "source": [
    "### Implementatation of Knn"
   ]
  },
  {
   "cell_type": "code",
   "execution_count": null,
   "metadata": {
    "id": "cRX_N7TPmxb0"
   },
   "outputs": [],
   "source": [
    "#calculate l2 distance \n",
    "def calculate_l2 (p1, p2):\n",
    "    dist = np.linalg.norm((p1-p2))\n",
    "    return dist\n",
    "\n",
    "#find all neighbors of test data from train data using l2 distance\n",
    "def predict(train, test, train_labels,k):\n",
    "    neighbors = []\n",
    "    list_distances = []\n",
    "\n",
    "    for i in train:\n",
    "      #using given metrics to calculate distance and append its corresponding label to a list\n",
    "      l2 = calculate_l2(i,test)\n",
    "      list_distances.append(l2)\n",
    "    \n",
    "    #find k smallest value\n",
    "    idx = np.argpartition(list_distances, k)\n",
    "    idx = idx[:k]\n",
    "    #find their labels \n",
    "    for i in idx:\n",
    "        neighbors.append(train_labels[i])\n",
    "\n",
    "    #find the most fequent label\n",
    "    values, counts = np.unique(neighbors, return_counts = True)\n",
    "    max_count = max(counts)\n",
    "    counts = counts.tolist()\n",
    "    max_index = counts.index(max_count)\n",
    "    predicted_val = values[max_index]\n",
    "\n",
    "    return predicted_val\n",
    "\n",
    "# give predicted labels and true labels, find all differences\n",
    "# calculate accruacy: #corrects/#total\n",
    "def calculate_accuracy (predict_labels, true_labels):\n",
    "    corrects = np.nonzero(predict_labels == true_labels)[0]\n",
    "    accuracy = len(corrects)/len(true_labels)\n",
    "    return accuracy"
   ]
  },
  {
   "cell_type": "markdown",
   "metadata": {
    "id": "dVQeI3IKLGMl"
   },
   "source": [
    "## calculate accuracy for different parameters in 5 fold cross validation"
   ]
  },
  {
   "cell_type": "markdown",
   "metadata": {
    "id": "1su61l-IzbGO"
   },
   "source": [
    "Note: running each k value need approximately 2 hours and there are 4 k values. Running all 4 k values with cross-validation will take very long time and Google Colab may restart session after running couple of hours."
   ]
  },
  {
   "cell_type": "code",
   "execution_count": null,
   "metadata": {
    "colab": {
     "base_uri": "https://localhost:8080/"
    },
    "id": "a-aCMIVbm5LD",
    "outputId": "21edf06e-e1cd-4b1b-ef4d-ce16edd4cdb5"
   },
   "outputs": [
    {
     "name": "stdout",
     "output_type": "stream",
     "text": [
      "Average accuracy for k = 3 : 28.108000000000004 %\n",
      "Average accuracy for k = 5 : 29.325999999999997 %\n",
      "Average accuracy for k = 7 : 29.402 %\n",
      "Average accuracy for k = 11 : 29.843999999999998 %\n"
     ]
    }
   ],
   "source": [
    "total_acc = []\n",
    "\n",
    "# list of parameters\n",
    "k_li = [3,5,7,11]\n",
    "\n",
    "for k in k_li:\n",
    "  acc_array = []\n",
    "  # 5 fold cross-validation\n",
    "  # split train,test dataset into 5 folds and iterate\n",
    "  m = np.split(X_train,5)\n",
    "  n = np.split(y_train,5)\n",
    "  for index in range(5):\n",
    "    #use index to split validations set and rest of train set\n",
    "    if index == 0:\n",
    "      trainset_x = np.concatenate(m[index+1:],axis=0)\n",
    "      trainset_y  = np.concatenate(n[index+1:],axis=0)\n",
    "    else:\n",
    "      trainset_x =  np.concatenate(m[0:index]+m[index+1:],axis=0)\n",
    "      trainset_y  = np.concatenate(n[0:index]+n[index+1:],axis=0)\n",
    "    validation_x = m[index]\n",
    "    validation_y = n[index]\n",
    "\n",
    "    predicted_labels = []\n",
    "    for i in X_test:\n",
    "      #predict using knn\n",
    "      res = predict(validation_x, i, validation_y, k)\n",
    "      #get predictions and append to a list\n",
    "      predicted_labels.append(res)\n",
    "    acc = calculate_accuracy(predicted_labels, y_test)\n",
    "    acc_array.append(acc)\n",
    "  total_acc.append(sum(acc_array)/len(acc_array))\n",
    "  print(\"Average accuracy for k =\",k,\":\", sum(acc_array)/len(acc_array)*100,\"%\")"
   ]
  },
  {
   "cell_type": "markdown",
   "metadata": {
    "id": "4vnlrsvdQ7f5"
   },
   "source": [
    "## Draw a line graph with parameters as x-axis and accuracy as y-axis"
   ]
  },
  {
   "cell_type": "code",
   "execution_count": null,
   "metadata": {
    "colab": {
     "base_uri": "https://localhost:8080/",
     "height": 299
    },
    "id": "RYjg--TPQ2gx",
    "outputId": "8b29b484-2349-41fc-9507-ced9bdf5b787"
   },
   "outputs": [
    {
     "data": {
      "text/plain": [
       "Text(0.5, 1.0, 'Accuacy with different parameters')"
      ]
     },
     "execution_count": 12,
     "metadata": {},
     "output_type": "execute_result"
    },
    {
     "data": {
      "image/png": "[encoded data removed]",
      "text/plain": [
       "<Figure size 432x288 with 1 Axes>"
      ]
     },
     "metadata": {
      "needs_background": "light"
     },
     "output_type": "display_data"
    }
   ],
   "source": [
    "plt.plot(k_li, total_acc)\n",
    "plt.title('Accuacy with different parameters')"
   ]
  },
  {
   "cell_type": "markdown",
   "metadata": {
    "id": "iYAXm5VlK036"
   },
   "source": [
    "## Final accuracy with the best parameter"
   ]
  },
  {
   "cell_type": "code",
   "execution_count": null,
   "metadata": {
    "colab": {
     "base_uri": "https://localhost:8080/"
    },
    "id": "DIygzBCgK4ED",
    "outputId": "cccdbf89-00f7-49b7-9076-1ec0afeda69f"
   },
   "outputs": [
    {
     "name": "stdout",
     "output_type": "stream",
     "text": [
      "Average accuracy for k = 11 : 34.14 %\n"
     ]
    }
   ],
   "source": [
    "k = 11\n",
    "acc_array = []\n",
    "predicted_labels = []\n",
    "\n",
    "for i in X_test:\n",
    "  res = predict(X_train, i, y_train, k)\n",
    "  predicted_labels.append(res)\n",
    "acc = calculate_accuracy(predicted_labels, y_test)\n",
    "acc_array.append(acc)\n",
    "\n",
    "print(\"Average accuracy for k =\",k,\":\", sum(acc_array)/len(acc_array)*100,\"%\")"
   ]
  }
 ],
 "metadata": {
  "colab": {
   "collapsed_sections": [],
   "name": "knn.ipynb",
   "provenance": []
  },
  "kernelspec": {
   "display_name": "Python 3",
   "language": "python",
   "name": "python3"
  },
  "language_info": {
   "codemirror_mode": {
    "name": "ipython",
    "version": 3
   },
   "file_extension": ".py",
   "mimetype": "text/x-python",
   "name": "python",
   "nbconvert_exporter": "python",
   "pygments_lexer": "ipython3",
   "version": "3.8.5"
  },
  "widgets": {
   "application/vnd.jupyter.widget-state+json": {
    "19997021ea8543a6bb86add58c023179": {
     "model_module": "@jupyter-widgets/controls",
     "model_module_version": "1.5.0",
     "model_name": "HBoxModel",
     "state": {
      "_dom_classes": [],
      "_model_module": "@jupyter-widgets/controls",
      "_model_module_version": "1.5.0",
      "_model_name": "HBoxModel",
      "_view_count": null,
      "_view_module": "@jupyter-widgets/controls",
      "_view_module_version": "1.5.0",
      "_view_name": "HBoxView",
      "box_style": "",
      "children": [
       "IPY_MODEL_77c51023aa7b4eb088098c562aa9700c",
       "IPY_MODEL_807624b40b9a43a693a5a3afd4d3fa4b",
       "IPY_MODEL_e82379c1843b41c8b161b3c1233076a0"
      ],
      "layout": "IPY_MODEL_b15c648772924f3babff05850486df4f"
     }
    },
    "2d9afe4170814a8696816d45abc7df25": {
     "model_module": "@jupyter-widgets/base",
     "model_module_version": "1.2.0",
     "model_name": "LayoutModel",
     "state": {
      "_model_module": "@jupyter-widgets/base",
      "_model_module_version": "1.2.0",
      "_model_name": "LayoutModel",
      "_view_count": null,
      "_view_module": "@jupyter-widgets/base",
      "_view_module_version": "1.2.0",
      "_view_name": "LayoutView",
      "align_content": null,
      "align_items": null,
      "align_self": null,
      "border": null,
      "bottom": null,
      "display": null,
      "flex": null,
      "flex_flow": null,
      "grid_area": null,
      "grid_auto_columns": null,
      "grid_auto_flow": null,
      "grid_auto_rows": null,
      "grid_column": null,
      "grid_gap": null,
      "grid_row": null,
      "grid_template_areas": null,
      "grid_template_columns": null,
      "grid_template_rows": null,
      "height": null,
      "justify_content": null,
      "justify_items": null,
      "left": null,
      "margin": null,
      "max_height": null,
      "max_width": null,
      "min_height": null,
      "min_width": null,
      "object_fit": null,
      "object_position": null,
      "order": null,
      "overflow": null,
      "overflow_x": null,
      "overflow_y": null,
      "padding": null,
      "right": null,
      "top": null,
      "visibility": null,
      "width": null
     }
    },
    "5a9473d716154e0083412fdd7e4acf1d": {
     "model_module": "@jupyter-widgets/controls",
     "model_module_version": "1.5.0",
     "model_name": "DescriptionStyleModel",
     "state": {
      "_model_module": "@jupyter-widgets/controls",
      "_model_module_version": "1.5.0",
      "_model_name": "DescriptionStyleModel",
      "_view_count": null,
      "_view_module": "@jupyter-widgets/base",
      "_view_module_version": "1.2.0",
      "_view_name": "StyleView",
      "description_width": ""
     }
    },
    "77c51023aa7b4eb088098c562aa9700c": {
     "model_module": "@jupyter-widgets/controls",
     "model_module_version": "1.5.0",
     "model_name": "HTMLModel",
     "state": {
      "_dom_classes": [],
      "_model_module": "@jupyter-widgets/controls",
      "_model_module_version": "1.5.0",
      "_model_name": "HTMLModel",
      "_view_count": null,
      "_view_module": "@jupyter-widgets/controls",
      "_view_module_version": "1.5.0",
      "_view_name": "HTMLView",
      "description": "",
      "description_tooltip": null,
      "layout": "IPY_MODEL_becc1caec2e64e7e80608385805d7658",
      "placeholder": "​",
      "style": "IPY_MODEL_5a9473d716154e0083412fdd7e4acf1d",
      "value": ""
     }
    },
    "807624b40b9a43a693a5a3afd4d3fa4b": {
     "model_module": "@jupyter-widgets/controls",
     "model_module_version": "1.5.0",
     "model_name": "FloatProgressModel",
     "state": {
      "_dom_classes": [],
      "_model_module": "@jupyter-widgets/controls",
      "_model_module_version": "1.5.0",
      "_model_name": "FloatProgressModel",
      "_view_count": null,
      "_view_module": "@jupyter-widgets/controls",
      "_view_module_version": "1.5.0",
      "_view_name": "ProgressView",
      "bar_style": "success",
      "description": "",
      "description_tooltip": null,
      "layout": "IPY_MODEL_8e5cee4a64c24cb0b1cff95c514f0be5",
      "max": 170498071,
      "min": 0,
      "orientation": "horizontal",
      "style": "IPY_MODEL_b9cea8fdedcf4ef5a4f9ad7e3c0df42f",
      "value": 170498071
     }
    },
    "8e5cee4a64c24cb0b1cff95c514f0be5": {
     "model_module": "@jupyter-widgets/base",
     "model_module_version": "1.2.0",
     "model_name": "LayoutModel",
     "state": {
      "_model_module": "@jupyter-widgets/base",
      "_model_module_version": "1.2.0",
      "_model_name": "LayoutModel",
      "_view_count": null,
      "_view_module": "@jupyter-widgets/base",
      "_view_module_version": "1.2.0",
      "_view_name": "LayoutView",
      "align_content": null,
      "align_items": null,
      "align_self": null,
      "border": null,
      "bottom": null,
      "display": null,
      "flex": null,
      "flex_flow": null,
      "grid_area": null,
      "grid_auto_columns": null,
      "grid_auto_flow": null,
      "grid_auto_rows": null,
      "grid_column": null,
      "grid_gap": null,
      "grid_row": null,
      "grid_template_areas": null,
      "grid_template_columns": null,
      "grid_template_rows": null,
      "height": null,
      "justify_content": null,
      "justify_items": null,
      "left": null,
      "margin": null,
      "max_height": null,
      "max_width": null,
      "min_height": null,
      "min_width": null,
      "object_fit": null,
      "object_position": null,
      "order": null,
      "overflow": null,
      "overflow_x": null,
      "overflow_y": null,
      "padding": null,
      "right": null,
      "top": null,
      "visibility": null,
      "width": null
     }
    },
    "b15c648772924f3babff05850486df4f": {
     "model_module": "@jupyter-widgets/base",
     "model_module_version": "1.2.0",
     "model_name": "LayoutModel",
     "state": {
      "_model_module": "@jupyter-widgets/base",
      "_model_module_version": "1.2.0",
      "_model_name": "LayoutModel",
      "_view_count": null,
      "_view_module": "@jupyter-widgets/base",
      "_view_module_version": "1.2.0",
      "_view_name": "LayoutView",
      "align_content": null,
      "align_items": null,
      "align_self": null,
      "border": null,
      "bottom": null,
      "display": null,
      "flex": null,
      "flex_flow": null,
      "grid_area": null,
      "grid_auto_columns": null,
      "grid_auto_flow": null,
      "grid_auto_rows": null,
      "grid_column": null,
      "grid_gap": null,
      "grid_row": null,
      "grid_template_areas": null,
      "grid_template_columns": null,
      "grid_template_rows": null,
      "height": null,
      "justify_content": null,
      "justify_items": null,
      "left": null,
      "margin": null,
      "max_height": null,
      "max_width": null,
      "min_height": null,
      "min_width": null,
      "object_fit": null,
      "object_position": null,
      "order": null,
      "overflow": null,
      "overflow_x": null,
      "overflow_y": null,
      "padding": null,
      "right": null,
      "top": null,
      "visibility": null,
      "width": null
     }
    },
    "b9cea8fdedcf4ef5a4f9ad7e3c0df42f": {
     "model_module": "@jupyter-widgets/controls",
     "model_module_version": "1.5.0",
     "model_name": "ProgressStyleModel",
     "state": {
      "_model_module": "@jupyter-widgets/controls",
      "_model_module_version": "1.5.0",
      "_model_name": "ProgressStyleModel",
      "_view_count": null,
      "_view_module": "@jupyter-widgets/base",
      "_view_module_version": "1.2.0",
      "_view_name": "StyleView",
      "bar_color": null,
      "description_width": ""
     }
    },
    "becc1caec2e64e7e80608385805d7658": {
     "model_module": "@jupyter-widgets/base",
     "model_module_version": "1.2.0",
     "model_name": "LayoutModel",
     "state": {
      "_model_module": "@jupyter-widgets/base",
      "_model_module_version": "1.2.0",
      "_model_name": "LayoutModel",
      "_view_count": null,
      "_view_module": "@jupyter-widgets/base",
      "_view_module_version": "1.2.0",
      "_view_name": "LayoutView",
      "align_content": null,
      "align_items": null,
      "align_self": null,
      "border": null,
      "bottom": null,
      "display": null,
      "flex": null,
      "flex_flow": null,
      "grid_area": null,
      "grid_auto_columns": null,
      "grid_auto_flow": null,
      "grid_auto_rows": null,
      "grid_column": null,
      "grid_gap": null,
      "grid_row": null,
      "grid_template_areas": null,
      "grid_template_columns": null,
      "grid_template_rows": null,
      "height": null,
      "justify_content": null,
      "justify_items": null,
      "left": null,
      "margin": null,
      "max_height": null,
      "max_width": null,
      "min_height": null,
      "min_width": null,
      "object_fit": null,
      "object_position": null,
      "order": null,
      "overflow": null,
      "overflow_x": null,
      "overflow_y": null,
      "padding": null,
      "right": null,
      "top": null,
      "visibility": null,
      "width": null
     }
    },
    "e82379c1843b41c8b161b3c1233076a0": {
     "model_module": "@jupyter-widgets/controls",
     "model_module_version": "1.5.0",
     "model_name": "HTMLModel",
     "state": {
      "_dom_classes": [],
      "_model_module": "@jupyter-widgets/controls",
      "_model_module_version": "1.5.0",
      "_model_name": "HTMLModel",
      "_view_count": null,
      "_view_module": "@jupyter-widgets/controls",
      "_view_module_version": "1.5.0",
      "_view_name": "HTMLView",
      "description": "",
      "description_tooltip": null,
      "layout": "IPY_MODEL_2d9afe4170814a8696816d45abc7df25",
      "placeholder": "​",
      "style": "IPY_MODEL_fb1ee35acd5f406d8f0197b192436346",
      "value": " 170499072/? [00:06&lt;00:00, 27763511.87it/s]"
     }
    },
    "fb1ee35acd5f406d8f0197b192436346": {
     "model_module": "@jupyter-widgets/controls",
     "model_module_version": "1.5.0",
     "model_name": "DescriptionStyleModel",
     "state": {
      "_model_module": "@jupyter-widgets/controls",
      "_model_module_version": "1.5.0",
      "_model_name": "DescriptionStyleModel",
      "_view_count": null,
      "_view_module": "@jupyter-widgets/base",
      "_view_module_version": "1.2.0",
      "_view_name": "StyleView",
      "description_width": ""
     }
    }
   }
  }
 },
 "nbformat": 4,
 "nbformat_minor": 1
}

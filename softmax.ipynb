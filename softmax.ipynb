{
 "cells": [
  {
   "cell_type": "markdown",
   "metadata": {
    "id": "NDX4o8cClKHw"
   },
   "source": [
    "##The code is implemented and run on Google Colab"
   ]
  },
  {
   "cell_type": "code",
   "execution_count": null,
   "metadata": {
    "colab": {
     "base_uri": "https://localhost:8080/"
    },
    "id": "JfZw1MLjlMvI",
    "outputId": "01a65eb9-4801-40cc-8b22-7e7595aeeba1"
   },
   "outputs": [
    {
     "name": "stdout",
     "output_type": "stream",
     "text": [
      "Requirement already satisfied: torch in /usr/local/lib/python3.7/dist-packages (1.10.0+cu111)\n",
      "Requirement already satisfied: typing-extensions in /usr/local/lib/python3.7/dist-packages (from torch) (3.10.0.2)\n",
      "Requirement already satisfied: torchvision in /usr/local/lib/python3.7/dist-packages (0.11.1+cu111)\n",
      "Requirement already satisfied: torch==1.10.0 in /usr/local/lib/python3.7/dist-packages (from torchvision) (1.10.0+cu111)\n",
      "Requirement already satisfied: numpy in /usr/local/lib/python3.7/dist-packages (from torchvision) (1.19.5)\n",
      "Requirement already satisfied: pillow!=8.3.0,>=5.3.0 in /usr/local/lib/python3.7/dist-packages (from torchvision) (7.1.2)\n",
      "Requirement already satisfied: typing-extensions in /usr/local/lib/python3.7/dist-packages (from torch==1.10.0->torchvision) (3.10.0.2)\n"
     ]
    }
   ],
   "source": [
    "# If use Google Colab, use the two commands to install torch and torchvision\n",
    "!pip install torch\n",
    "!pip install torchvision"
   ]
  },
  {
   "cell_type": "code",
   "execution_count": null,
   "metadata": {
    "id": "UeqJv-TMm9aL"
   },
   "outputs": [],
   "source": [
    "import torchvision\n",
    "from torchvision import datasets, transforms\n",
    "from torchvision.transforms import ToTensor, Compose\n",
    "import pickle\n",
    "import numpy as np\n",
    "import matplotlib.pyplot as plt"
   ]
  },
  {
   "cell_type": "code",
   "execution_count": null,
   "metadata": {
    "colab": {
     "base_uri": "https://localhost:8080/",
     "height": 104,
     "referenced_widgets": [
      "7ae0b3e8e3e14d4aacf9e7ee00fa160a",
      "242403f88c344213b2f1a121d661e144",
      "1badcbc47f1948f096cd2750231eefc7",
      "8f7d9f98b1e44977b15de112452013dc",
      "4804fb3733d64469ac6a80ed5b42f023",
      "771725a12b354148bb2f8bb934ef9986",
      "0d0df7a0d4944aefbba7360c1a8697b1",
      "772318c1eebe4a8c96ae5571929b75fe",
      "6b5638c3192b45f6ab88a94ff76e96d3",
      "fb1d7adda3af4390b88cb91b9d6c29f4",
      "c4016764e65f4a968c36cbc20dbdc278"
     ]
    },
    "id": "72FLCl6qm_2c",
    "outputId": "0dda7e33-0be2-494f-ca21-6ba5e1294f22"
   },
   "outputs": [
    {
     "name": "stdout",
     "output_type": "stream",
     "text": [
      "Downloading https://www.cs.toronto.edu/~kriz/cifar-10-python.tar.gz to data/cifar-10-python.tar.gz\n"
     ]
    },
    {
     "data": {
      "application/vnd.jupyter.widget-view+json": {
       "model_id": "7ae0b3e8e3e14d4aacf9e7ee00fa160a",
       "version_major": 2,
       "version_minor": 0
      },
      "text/plain": [
       "  0%|          | 0/170498071 [00:00<?, ?it/s]"
      ]
     },
     "metadata": {},
     "output_type": "display_data"
    },
    {
     "name": "stdout",
     "output_type": "stream",
     "text": [
      "Extracting data/cifar-10-python.tar.gz to data/\n",
      "Files already downloaded and verified\n"
     ]
    }
   ],
   "source": [
    "# load data\n",
    "train_dataset = datasets.CIFAR10(root='data/', download=True, train=True, transform=ToTensor())\n",
    "test_dataset = datasets.CIFAR10(root='data/', download=True, train=False, transform=ToTensor())"
   ]
  },
  {
   "cell_type": "code",
   "execution_count": null,
   "metadata": {
    "id": "2Ow3YIWEnBB2"
   },
   "outputs": [],
   "source": [
    "# load train and test data\n",
    "X_train = train_dataset.data/255\n",
    "y_train = np.array(train_dataset.targets)\n",
    "X_test = test_dataset.data/255\n",
    "y_test = np.array(test_dataset.targets)"
   ]
  },
  {
   "cell_type": "code",
   "execution_count": null,
   "metadata": {
    "id": "D8w0DkSVnD1E"
   },
   "outputs": [],
   "source": [
    "# vectorize train and test data\n",
    "X_train = X_train.reshape((50000, 32*32*3))\n",
    "X_test = X_test.reshape((10000, 32*32*3))"
   ]
  },
  {
   "cell_type": "code",
   "execution_count": null,
   "metadata": {
    "id": "eDFlZ5mfodhA"
   },
   "outputs": [],
   "source": [
    "def linear_classifier(input_x, weight, bias):\n",
    "  scores = np.dot(weight.T,input_x) + bias\n",
    "  return scores \n",
    "\n",
    "def loss(output,y):\n",
    "  #use formula -summation(y*log(y_hat))/n\n",
    "  #add small number to avoid log divide zero\n",
    "  L = np.negative(np.sum(y*np.log(output+10**-10)))/len(y)\n",
    "  return L\n",
    "\n",
    "def softmax_function(score):\n",
    "  #normalize exp\n",
    "  exp_score = np.exp(score-np.max(score))\n",
    "  return exp_score/np.sum(exp_score)\n",
    "\n",
    "# one hot encode to match shape of y_hat\n",
    "def one_hot_encode(y):\n",
    "  encoded_y = np.zeros((len(y),10))\n",
    "  for i in range(len(y)):\n",
    "    encoded_y[i,y[i]]=1\n",
    "  return encoded_y\n",
    "\n",
    "#calculate l2 regularization\n",
    "#set lambda as 0.5\n",
    "def regularization(w):\n",
    "  return (0.25 * np.sum(np.linalg.norm(w)))/50000\n",
    "  \n",
    "def gradient_descent(w,b,learning_rate,x,y):\n",
    "  list_total_loss=[]\n",
    "  list_acc = []\n",
    "  list_learning_rate = []\n",
    "\n",
    "  for epoch in range (1000):\n",
    "    epoch+=1\n",
    "    #decreaseing learning rate schedule\n",
    "    if epoch %10 ==0:\n",
    "      list_learning_rate.append(learning_rate)\n",
    "      prediction = []\n",
    "      #get accuracy for this learning rate\n",
    "      for i in y_hat:\n",
    "        prediction.append(np.argmax(i))\n",
    "      prediction = np.array(prediction)\n",
    "      acc = calculate_accuracy(prediction,y)\n",
    "      list_acc.append(acc)\n",
    "      #new learning rate\n",
    "      learning_rate = 1/epoch\n",
    "\n",
    "    y_hat = []\n",
    "    #calculate softmax and loss for each image in dataset\n",
    "    for i in range(len(x)):\n",
    "      score = linear_classifier(x[i], w, b)\n",
    "      softmax_score = softmax_function(score)\n",
    "      y_hat.append(softmax_score)\n",
    "\n",
    "    y_hat = np.array(y_hat)\n",
    "    encoded_y=one_hot_encode(y)\n",
    "    #calculate derivative of loss with respect to w\n",
    "    dw = (1/(x.shape[0]))*np.dot(np.negative(x.T),(encoded_y-y_hat))+ 0.5*w\n",
    "    #calculate db\n",
    "    db = (1/(x.shape[0]))*np.sum((encoded_y-y_hat))\n",
    "    #update dw, db\n",
    "    w = w - learning_rate*dw\n",
    "    b = b - learning_rate*db\n",
    "    Total_loss = loss(y_hat,encoded_y)+regularization(w)\n",
    "    list_total_loss.append(Total_loss)\n",
    "  return w, b, list_total_loss, list_acc, list_learning_rate\n",
    "\n",
    "# give predicted labels and true labels, find all differences\n",
    "# calculate accruacy: #corrects/#total\n",
    "def calculate_accuracy (predict_labels, true_labels):\n",
    "    corrects = np.nonzero(predict_labels == true_labels)[0]\n",
    "    accuracy = len(corrects)/len(true_labels)\n",
    "    return accuracy"
   ]
  },
  {
   "cell_type": "markdown",
   "metadata": {
    "id": "PeUuI6cHLJyB"
   },
   "source": [
    "## random weights and bias"
   ]
  },
  {
   "cell_type": "code",
   "execution_count": null,
   "metadata": {
    "id": "LCPEMZPDrvwH"
   },
   "outputs": [],
   "source": [
    "random_weights=np.random.uniform(low=0,high=1,size=(3072,10))\n",
    "random_bias= np.random.uniform(low=0,high=1,size=(10,))"
   ]
  },
  {
   "cell_type": "markdown",
   "metadata": {
    "id": "fwnh3R-mLOAK"
   },
   "source": [
    "## get weights, bias and loss"
   ]
  },
  {
   "cell_type": "code",
   "execution_count": null,
   "metadata": {
    "id": "UtMwgszYk8F6"
   },
   "outputs": [],
   "source": [
    "# the initial learning rate is 0.1\n",
    "# but learning rate will decrease over time, until 0.0001\n",
    "# every 10 epochs the learning rate will change to 1/n \n",
    "lr = 0.1\n",
    "w, b, loss, accuracies, learning_rates = gradient_descent(random_weights,random_bias,lr, X_train,y_train)"
   ]
  },
  {
   "cell_type": "markdown",
   "metadata": {
    "id": "pxy6SJLmQ4Na"
   },
   "source": [
    "## Plot loss graph"
   ]
  },
  {
   "cell_type": "code",
   "execution_count": null,
   "metadata": {
    "colab": {
     "base_uri": "https://localhost:8080/",
     "height": 299
    },
    "id": "0Wjr97B8Los6",
    "outputId": "935e3b0e-b09a-4fbd-daf1-1b8bb08d817a"
   },
   "outputs": [
    {
     "name": "stdout",
     "output_type": "stream",
     "text": [
      "Final loss at 1000 epochs is:  1.977920918587088\n"
     ]
    },
    {
     "data": {
      "image/png": "[encoded data removed]",
      "text/plain": [
       "<Figure size 432x288 with 1 Axes>"
      ]
     },
     "metadata": {
      "needs_background": "light"
     },
     "output_type": "display_data"
    }
   ],
   "source": [
    "plt.plot([i for i in range (len(loss))], loss)\n",
    "plt.title('Change of loss')\n",
    "print(\"Final loss at 1000 epochs is: \", loss[len(loss)-1])"
   ]
  },
  {
   "cell_type": "markdown",
   "metadata": {
    "id": "CeF8ax8mnv8_"
   },
   "source": [
    "## Plot change of accuracy"
   ]
  },
  {
   "cell_type": "code",
   "execution_count": null,
   "metadata": {
    "colab": {
     "base_uri": "https://localhost:8080/",
     "height": 299
    },
    "id": "2Qma7WZOn3Cs",
    "outputId": "56d499f2-89dc-4475-be3a-6a40664bf2f6"
   },
   "outputs": [
    {
     "data": {
      "text/plain": [
       "Text(0.5, 1.0, 'Change of accuracies')"
      ]
     },
     "execution_count": 20,
     "metadata": {},
     "output_type": "execute_result"
    },
    {
     "data": {
      "image/png": "[encoded data removed]",
      "text/plain": [
       "<Figure size 432x288 with 1 Axes>"
      ]
     },
     "metadata": {
      "needs_background": "light"
     },
     "output_type": "display_data"
    }
   ],
   "source": [
    "plt.plot([i for i in range(len(accuracies))], accuracies)\n",
    "plt.title('Change of accuracies')"
   ]
  },
  {
   "cell_type": "markdown",
   "metadata": {
    "id": "qtzdl_CY6uHf"
   },
   "source": [
    "## Plot change of learning rate"
   ]
  },
  {
   "cell_type": "code",
   "execution_count": null,
   "metadata": {
    "colab": {
     "base_uri": "https://localhost:8080/",
     "height": 299
    },
    "id": "VRzDq9-X6tQK",
    "outputId": "f36d77f6-faaa-4056-92a9-c615f58665a1"
   },
   "outputs": [
    {
     "data": {
      "text/plain": [
       "Text(0.5, 1.0, 'Change of learning rates')"
      ]
     },
     "execution_count": 21,
     "metadata": {},
     "output_type": "execute_result"
    },
    {
     "data": {
      "image/png": "[encoded data removed]",
      "text/plain": [
       "<Figure size 432x288 with 1 Axes>"
      ]
     },
     "metadata": {
      "needs_background": "light"
     },
     "output_type": "display_data"
    }
   ],
   "source": [
    "plt.plot([i for i in range(len(learning_rates))], learning_rates)\n",
    "plt.title('Change of learning rates')"
   ]
  },
  {
   "cell_type": "markdown",
   "metadata": {
    "id": "ksDo-ODSTRdW"
   },
   "source": [
    "## Calculate final accuracy"
   ]
  },
  {
   "cell_type": "code",
   "execution_count": null,
   "metadata": {
    "colab": {
     "base_uri": "https://localhost:8080/"
    },
    "id": "TVO3FrmoTRkm",
    "outputId": "9e7b90ef-a3c8-4c30-9b7a-1e4a6f7f83ef"
   },
   "outputs": [
    {
     "name": "stdout",
     "output_type": "stream",
     "text": [
      "The final accruacy for softmax: 32.54 %\n"
     ]
    }
   ],
   "source": [
    "y_hat = []\n",
    "for x in X_test:\n",
    "  score = linear_classifier(x, w, b)\n",
    "  softmax_score = softmax_function(score)\n",
    "  y_hat.append(softmax_score)\n",
    "\n",
    "y_hat = np.array(y_hat)\n",
    "prediction = []\n",
    "for i in y_hat:\n",
    "  prediction.append(np.argmax(i))\n",
    "prediction = np.array(prediction)\n",
    "acc = calculate_accuracy(prediction,y_test)\n",
    "print(\"The final accruacy for softmax:\",acc*100,\"%\")"
   ]
  }
 ],
 "metadata": {
  "colab": {
   "collapsed_sections": [],
   "name": "softmax.ipynb",
   "provenance": []
  },
  "kernelspec": {
   "display_name": "Python 3",
   "language": "python",
   "name": "python3"
  },
  "language_info": {
   "codemirror_mode": {
    "name": "ipython",
    "version": 3
   },
   "file_extension": ".py",
   "mimetype": "text/x-python",
   "name": "python",
   "nbconvert_exporter": "python",
   "pygments_lexer": "ipython3",
   "version": "3.8.5"
  },
  "widgets": {
   "application/vnd.jupyter.widget-state+json": {
    "0d0df7a0d4944aefbba7360c1a8697b1": {
     "model_module": "@jupyter-widgets/base",
     "model_module_version": "1.2.0",
     "model_name": "LayoutModel",
     "state": {
      "_model_module": "@jupyter-widgets/base",
      "_model_module_version": "1.2.0",
      "_model_name": "LayoutModel",
      "_view_count": null,
      "_view_module": "@jupyter-widgets/base",
      "_view_module_version": "1.2.0",
      "_view_name": "LayoutView",
      "align_content": null,
      "align_items": null,
      "align_self": null,
      "border": null,
      "bottom": null,
      "display": null,
      "flex": null,
      "flex_flow": null,
      "grid_area": null,
      "grid_auto_columns": null,
      "grid_auto_flow": null,
      "grid_auto_rows": null,
      "grid_column": null,
      "grid_gap": null,
      "grid_row": null,
      "grid_template_areas": null,
      "grid_template_columns": null,
      "grid_template_rows": null,
      "height": null,
      "justify_content": null,
      "justify_items": null,
      "left": null,
      "margin": null,
      "max_height": null,
      "max_width": null,
      "min_height": null,
      "min_width": null,
      "object_fit": null,
      "object_position": null,
      "order": null,
      "overflow": null,
      "overflow_x": null,
      "overflow_y": null,
      "padding": null,
      "right": null,
      "top": null,
      "visibility": null,
      "width": null
     }
    },
    "1badcbc47f1948f096cd2750231eefc7": {
     "model_module": "@jupyter-widgets/controls",
     "model_module_version": "1.5.0",
     "model_name": "HTMLModel",
     "state": {
      "_dom_classes": [],
      "_model_module": "@jupyter-widgets/controls",
      "_model_module_version": "1.5.0",
      "_model_name": "HTMLModel",
      "_view_count": null,
      "_view_module": "@jupyter-widgets/controls",
      "_view_module_version": "1.5.0",
      "_view_name": "HTMLView",
      "description": "",
      "description_tooltip": null,
      "layout": "IPY_MODEL_0d0df7a0d4944aefbba7360c1a8697b1",
      "placeholder": "​",
      "style": "IPY_MODEL_771725a12b354148bb2f8bb934ef9986",
      "value": ""
     }
    },
    "242403f88c344213b2f1a121d661e144": {
     "model_module": "@jupyter-widgets/base",
     "model_module_version": "1.2.0",
     "model_name": "LayoutModel",
     "state": {
      "_model_module": "@jupyter-widgets/base",
      "_model_module_version": "1.2.0",
      "_model_name": "LayoutModel",
      "_view_count": null,
      "_view_module": "@jupyter-widgets/base",
      "_view_module_version": "1.2.0",
      "_view_name": "LayoutView",
      "align_content": null,
      "align_items": null,
      "align_self": null,
      "border": null,
      "bottom": null,
      "display": null,
      "flex": null,
      "flex_flow": null,
      "grid_area": null,
      "grid_auto_columns": null,
      "grid_auto_flow": null,
      "grid_auto_rows": null,
      "grid_column": null,
      "grid_gap": null,
      "grid_row": null,
      "grid_template_areas": null,
      "grid_template_columns": null,
      "grid_template_rows": null,
      "height": null,
      "justify_content": null,
      "justify_items": null,
      "left": null,
      "margin": null,
      "max_height": null,
      "max_width": null,
      "min_height": null,
      "min_width": null,
      "object_fit": null,
      "object_position": null,
      "order": null,
      "overflow": null,
      "overflow_x": null,
      "overflow_y": null,
      "padding": null,
      "right": null,
      "top": null,
      "visibility": null,
      "width": null
     }
    },
    "4804fb3733d64469ac6a80ed5b42f023": {
     "model_module": "@jupyter-widgets/controls",
     "model_module_version": "1.5.0",
     "model_name": "HTMLModel",
     "state": {
      "_dom_classes": [],
      "_model_module": "@jupyter-widgets/controls",
      "_model_module_version": "1.5.0",
      "_model_name": "HTMLModel",
      "_view_count": null,
      "_view_module": "@jupyter-widgets/controls",
      "_view_module_version": "1.5.0",
      "_view_name": "HTMLView",
      "description": "",
      "description_tooltip": null,
      "layout": "IPY_MODEL_c4016764e65f4a968c36cbc20dbdc278",
      "placeholder": "​",
      "style": "IPY_MODEL_fb1d7adda3af4390b88cb91b9d6c29f4",
      "value": " 170499072/? [00:03&lt;00:00, 49468363.64it/s]"
     }
    },
    "6b5638c3192b45f6ab88a94ff76e96d3": {
     "model_module": "@jupyter-widgets/base",
     "model_module_version": "1.2.0",
     "model_name": "LayoutModel",
     "state": {
      "_model_module": "@jupyter-widgets/base",
      "_model_module_version": "1.2.0",
      "_model_name": "LayoutModel",
      "_view_count": null,
      "_view_module": "@jupyter-widgets/base",
      "_view_module_version": "1.2.0",
      "_view_name": "LayoutView",
      "align_content": null,
      "align_items": null,
      "align_self": null,
      "border": null,
      "bottom": null,
      "display": null,
      "flex": null,
      "flex_flow": null,
      "grid_area": null,
      "grid_auto_columns": null,
      "grid_auto_flow": null,
      "grid_auto_rows": null,
      "grid_column": null,
      "grid_gap": null,
      "grid_row": null,
      "grid_template_areas": null,
      "grid_template_columns": null,
      "grid_template_rows": null,
      "height": null,
      "justify_content": null,
      "justify_items": null,
      "left": null,
      "margin": null,
      "max_height": null,
      "max_width": null,
      "min_height": null,
      "min_width": null,
      "object_fit": null,
      "object_position": null,
      "order": null,
      "overflow": null,
      "overflow_x": null,
      "overflow_y": null,
      "padding": null,
      "right": null,
      "top": null,
      "visibility": null,
      "width": null
     }
    },
    "771725a12b354148bb2f8bb934ef9986": {
     "model_module": "@jupyter-widgets/controls",
     "model_module_version": "1.5.0",
     "model_name": "DescriptionStyleModel",
     "state": {
      "_model_module": "@jupyter-widgets/controls",
      "_model_module_version": "1.5.0",
      "_model_name": "DescriptionStyleModel",
      "_view_count": null,
      "_view_module": "@jupyter-widgets/base",
      "_view_module_version": "1.2.0",
      "_view_name": "StyleView",
      "description_width": ""
     }
    },
    "772318c1eebe4a8c96ae5571929b75fe": {
     "model_module": "@jupyter-widgets/controls",
     "model_module_version": "1.5.0",
     "model_name": "ProgressStyleModel",
     "state": {
      "_model_module": "@jupyter-widgets/controls",
      "_model_module_version": "1.5.0",
      "_model_name": "ProgressStyleModel",
      "_view_count": null,
      "_view_module": "@jupyter-widgets/base",
      "_view_module_version": "1.2.0",
      "_view_name": "StyleView",
      "bar_color": null,
      "description_width": ""
     }
    },
    "7ae0b3e8e3e14d4aacf9e7ee00fa160a": {
     "model_module": "@jupyter-widgets/controls",
     "model_module_version": "1.5.0",
     "model_name": "HBoxModel",
     "state": {
      "_dom_classes": [],
      "_model_module": "@jupyter-widgets/controls",
      "_model_module_version": "1.5.0",
      "_model_name": "HBoxModel",
      "_view_count": null,
      "_view_module": "@jupyter-widgets/controls",
      "_view_module_version": "1.5.0",
      "_view_name": "HBoxView",
      "box_style": "",
      "children": [
       "IPY_MODEL_1badcbc47f1948f096cd2750231eefc7",
       "IPY_MODEL_8f7d9f98b1e44977b15de112452013dc",
       "IPY_MODEL_4804fb3733d64469ac6a80ed5b42f023"
      ],
      "layout": "IPY_MODEL_242403f88c344213b2f1a121d661e144"
     }
    },
    "8f7d9f98b1e44977b15de112452013dc": {
     "model_module": "@jupyter-widgets/controls",
     "model_module_version": "1.5.0",
     "model_name": "FloatProgressModel",
     "state": {
      "_dom_classes": [],
      "_model_module": "@jupyter-widgets/controls",
      "_model_module_version": "1.5.0",
      "_model_name": "FloatProgressModel",
      "_view_count": null,
      "_view_module": "@jupyter-widgets/controls",
      "_view_module_version": "1.5.0",
      "_view_name": "ProgressView",
      "bar_style": "success",
      "description": "",
      "description_tooltip": null,
      "layout": "IPY_MODEL_6b5638c3192b45f6ab88a94ff76e96d3",
      "max": 170498071,
      "min": 0,
      "orientation": "horizontal",
      "style": "IPY_MODEL_772318c1eebe4a8c96ae5571929b75fe",
      "value": 170498071
     }
    },
    "c4016764e65f4a968c36cbc20dbdc278": {
     "model_module": "@jupyter-widgets/base",
     "model_module_version": "1.2.0",
     "model_name": "LayoutModel",
     "state": {
      "_model_module": "@jupyter-widgets/base",
      "_model_module_version": "1.2.0",
      "_model_name": "LayoutModel",
      "_view_count": null,
      "_view_module": "@jupyter-widgets/base",
      "_view_module_version": "1.2.0",
      "_view_name": "LayoutView",
      "align_content": null,
      "align_items": null,
      "align_self": null,
      "border": null,
      "bottom": null,
      "display": null,
      "flex": null,
      "flex_flow": null,
      "grid_area": null,
      "grid_auto_columns": null,
      "grid_auto_flow": null,
      "grid_auto_rows": null,
      "grid_column": null,
      "grid_gap": null,
      "grid_row": null,
      "grid_template_areas": null,
      "grid_template_columns": null,
      "grid_template_rows": null,
      "height": null,
      "justify_content": null,
      "justify_items": null,
      "left": null,
      "margin": null,
      "max_height": null,
      "max_width": null,
      "min_height": null,
      "min_width": null,
      "object_fit": null,
      "object_position": null,
      "order": null,
      "overflow": null,
      "overflow_x": null,
      "overflow_y": null,
      "padding": null,
      "right": null,
      "top": null,
      "visibility": null,
      "width": null
     }
    },
    "fb1d7adda3af4390b88cb91b9d6c29f4": {
     "model_module": "@jupyter-widgets/controls",
     "model_module_version": "1.5.0",
     "model_name": "DescriptionStyleModel",
     "state": {
      "_model_module": "@jupyter-widgets/controls",
      "_model_module_version": "1.5.0",
      "_model_name": "DescriptionStyleModel",
      "_view_count": null,
      "_view_module": "@jupyter-widgets/base",
      "_view_module_version": "1.2.0",
      "_view_name": "StyleView",
      "description_width": ""
     }
    }
   }
  }
 },
 "nbformat": 4,
 "nbformat_minor": 1
}
